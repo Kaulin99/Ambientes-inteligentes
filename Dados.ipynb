{
 "cells": [
  {
   "cell_type": "markdown",
   "metadata": {},
   "source": [
    "<a rel=\"license\" href=\"https://faculdadesalvadorarena.org.br/\"><img alt=\"FESA\" style=\"border-width:0\" src=\"https://faculdadesalvadorarena.org.br/wp-content/uploads/2022/07/logo_fesa.png\" /></a><br />\n",
    "**FESA - Eletiva II (2025.1)** \n",
    "**N1 1ºbimestre**<br/>\n",
    "\n",
    "Aluno(a): Kauê dos Santos Andrade <br/>\n",
    "Data: 10/03/2025 <br/>"
   ]
  },
  {
   "cell_type": "code",
   "execution_count": 14,
   "metadata": {},
   "outputs": [],
   "source": [
    "import pandas as pd"
   ]
  },
  {
   "cell_type": "code",
   "execution_count": 15,
   "metadata": {},
   "outputs": [],
   "source": [
    "#Lê o arquivo com os dados\n",
    "\n",
    "links = pd.read_csv('C:/Users/kauea/OneDrive/Área de Trabalho/ERROR 404/Faculdade/Ambientes inteligentes/N1 1Bm/ml-latest-small/links.csv')\n",
    "movies = pd.read_csv('C:/Users/kauea/OneDrive/Área de Trabalho/ERROR 404/Faculdade/Ambientes inteligentes/N1 1Bm/ml-latest-small/movies.csv')\n",
    "ratings = pd.read_csv('C:/Users/kauea/OneDrive/Área de Trabalho/ERROR 404/Faculdade/Ambientes inteligentes/N1 1Bm/ml-latest-small/ratings.csv')\n",
    "tags = pd.read_csv('C:/Users/kauea/OneDrive/Área de Trabalho/ERROR 404/Faculdade/Ambientes inteligentes/N1 1Bm/ml-latest-small/tags.csv')"
   ]
  },
  {
   "cell_type": "code",
   "execution_count": 16,
   "metadata": {},
   "outputs": [],
   "source": [
    "# Renomear colunas para facilitar o entendimento\n",
    "\n",
    "links.rename(columns={'movieId': 'Código do filme', 'imdbId': 'Código do imdb', \n",
    "                    'tmdbId': 'Código do tmdb'}, inplace=True)\n",
    "movies.rename(columns={'movieId': 'Código do filme', 'title': 'Títulos', \n",
    "                    'genres': 'Gêneros'}, inplace=True)\n",
    "ratings.rename(columns={'userId': 'Código do usuário', 'movieId': 'Código do filme', \n",
    "                    'rating': 'Nota' ,  'timestamp' : 'Data'}, inplace=True)\n",
    "tags.rename(columns={'userId': 'Código do usuário', 'movieId': 'Código do filme', \n",
    "                    'tag': 'Tipo' ,  'timestamp' : 'Data'}, inplace=True)"
   ]
  },
  {
   "cell_type": "code",
   "execution_count": 17,
   "metadata": {},
   "outputs": [],
   "source": [
    "#Converte para String os dados em int e float que podem ser muito pesados sendo usados como int ou float, havendo o perigo de ultrapassar o limite dos números sem necessidade\n",
    "\n",
    "conversor = ['Código do filme', 'Código do imdb', 'Código do tmdb']\n",
    "for col in conversor:\n",
    "    links[col] = links[col].astype('string')\n",
    "\n",
    "date_columns = ['Data']\n",
    "for col in date_columns:\n",
    "    ratings[col] = pd.to_datetime(ratings[col], unit='s')\n",
    "\n",
    "date_columns1 = ['Data']\n",
    "for col in date_columns1:\n",
    "    tags[col] = pd.to_datetime(tags[col], unit='s')\n",
    "\n",
    "date_columns2 = ['Código do usuário','Código do filme']\n",
    "for col in date_columns2:\n",
    "    tags[col] = tags[col].astype('string')"
   ]
  },
  {
   "cell_type": "code",
   "execution_count": 18,
   "metadata": {},
   "outputs": [
    {
     "name": "stdout",
     "output_type": "stream",
     "text": [
      "  Código do filme Código do imdb Código do tmdb\n",
      "0               1         114709          862.0\n",
      "1               2         113497         8844.0\n",
      "2               3         113228        15602.0\n",
      "3               4         114885        31357.0\n",
      "4               5         113041        11862.0\n",
      "   Código do filme                             Títulos  \\\n",
      "0                1                    Toy Story (1995)   \n",
      "1                2                      Jumanji (1995)   \n",
      "2                3             Grumpier Old Men (1995)   \n",
      "3                4            Waiting to Exhale (1995)   \n",
      "4                5  Father of the Bride Part II (1995)   \n",
      "\n",
      "                                       Gêneros  \n",
      "0  Adventure|Animation|Children|Comedy|Fantasy  \n",
      "1                   Adventure|Children|Fantasy  \n",
      "2                               Comedy|Romance  \n",
      "3                         Comedy|Drama|Romance  \n",
      "4                                       Comedy  \n",
      "   Código do usuário  Código do filme  Nota                Data\n",
      "0                  1                1   4.0 2000-07-30 18:45:03\n",
      "1                  1                3   4.0 2000-07-30 18:20:47\n",
      "2                  1                6   4.0 2000-07-30 18:37:04\n",
      "3                  1               47   5.0 2000-07-30 19:03:35\n",
      "4                  1               50   5.0 2000-07-30 18:48:51\n",
      "  Código do usuário Código do filme             Tipo                Data\n",
      "0                 2           60756            funny 2015-10-24 19:29:54\n",
      "1                 2           60756  Highly quotable 2015-10-24 19:29:56\n",
      "2                 2           60756     will ferrell 2015-10-24 19:29:52\n",
      "3                 2           89774     Boxing story 2015-10-24 19:33:27\n",
      "4                 2           89774              MMA 2015-10-24 19:33:20\n"
     ]
    }
   ],
   "source": [
    "#Mostra os primeiros 5 dados de cada tabela\n",
    "\n",
    "print(links.head())\n",
    "print(movies.head())\n",
    "print(ratings.head())\n",
    "print(tags.head())"
   ]
  },
  {
   "cell_type": "code",
   "execution_count": 19,
   "metadata": {},
   "outputs": [
    {
     "name": "stdout",
     "output_type": "stream",
     "text": [
      "<class 'pandas.core.frame.DataFrame'>\n",
      "RangeIndex: 9742 entries, 0 to 9741\n",
      "Data columns (total 3 columns):\n",
      " #   Column           Non-Null Count  Dtype \n",
      "---  ------           --------------  ----- \n",
      " 0   Código do filme  9742 non-null   string\n",
      " 1   Código do imdb   9742 non-null   string\n",
      " 2   Código do tmdb   9734 non-null   string\n",
      "dtypes: string(3)\n",
      "memory usage: 228.5 KB\n",
      "None\n",
      "<class 'pandas.core.frame.DataFrame'>\n",
      "RangeIndex: 9742 entries, 0 to 9741\n",
      "Data columns (total 3 columns):\n",
      " #   Column           Non-Null Count  Dtype \n",
      "---  ------           --------------  ----- \n",
      " 0   Código do filme  9742 non-null   int64 \n",
      " 1   Títulos          9742 non-null   object\n",
      " 2   Gêneros          9742 non-null   object\n",
      "dtypes: int64(1), object(2)\n",
      "memory usage: 228.5+ KB\n",
      "None\n",
      "<class 'pandas.core.frame.DataFrame'>\n",
      "RangeIndex: 100836 entries, 0 to 100835\n",
      "Data columns (total 4 columns):\n",
      " #   Column             Non-Null Count   Dtype         \n",
      "---  ------             --------------   -----         \n",
      " 0   Código do usuário  100836 non-null  int64         \n",
      " 1   Código do filme    100836 non-null  int64         \n",
      " 2   Nota               100836 non-null  float64       \n",
      " 3   Data               100836 non-null  datetime64[ns]\n",
      "dtypes: datetime64[ns](1), float64(1), int64(2)\n",
      "memory usage: 3.1 MB\n",
      "None\n",
      "<class 'pandas.core.frame.DataFrame'>\n",
      "RangeIndex: 3683 entries, 0 to 3682\n",
      "Data columns (total 4 columns):\n",
      " #   Column             Non-Null Count  Dtype         \n",
      "---  ------             --------------  -----         \n",
      " 0   Código do usuário  3683 non-null   string        \n",
      " 1   Código do filme    3683 non-null   string        \n",
      " 2   Tipo               3683 non-null   object        \n",
      " 3   Data               3683 non-null   datetime64[ns]\n",
      "dtypes: datetime64[ns](1), object(1), string(2)\n",
      "memory usage: 115.2+ KB\n",
      "None\n"
     ]
    }
   ],
   "source": [
    "#Mostra algumas informações\n",
    "\n",
    "print(links.info())\n",
    "print(movies.info())\n",
    "print(ratings.info())\n",
    "print(tags.info())"
   ]
  },
  {
   "cell_type": "code",
   "execution_count": 20,
   "metadata": {},
   "outputs": [
    {
     "name": "stdout",
     "output_type": "stream",
     "text": [
      "       Código do filme Código do imdb Código do tmdb\n",
      "count             9742           9742           9734\n",
      "unique            9742           9742           9733\n",
      "top                  1         114709         4912.0\n",
      "freq                 1              1              2\n",
      "       Código do filme\n",
      "count      9742.000000\n",
      "mean      42200.353623\n",
      "std       52160.494854\n",
      "min           1.000000\n",
      "25%        3248.250000\n",
      "50%        7300.000000\n",
      "75%       76232.000000\n",
      "max      193609.000000\n",
      "       Código do usuário  Código do filme           Nota\n",
      "count      100836.000000    100836.000000  100836.000000\n",
      "mean          326.127564     19435.295718       3.501557\n",
      "std           182.618491     35530.987199       1.042529\n",
      "min             1.000000         1.000000       0.500000\n",
      "25%           177.000000      1199.000000       3.000000\n",
      "50%           325.000000      2991.000000       3.500000\n",
      "75%           477.000000      8122.000000       4.000000\n",
      "max           610.000000    193609.000000       5.000000\n",
      "       Código do usuário Código do filme              Tipo  \\\n",
      "count               3683            3683              3683   \n",
      "unique                58            1572              1589   \n",
      "top                  474             296  In Netflix queue   \n",
      "freq                1507             181               131   \n",
      "first                NaN             NaN               NaN   \n",
      "last                 NaN             NaN               NaN   \n",
      "\n",
      "                       Data  \n",
      "count                  3683  \n",
      "unique                 3411  \n",
      "top     2006-01-14 20:39:52  \n",
      "freq                      5  \n",
      "first   2006-01-13 19:09:12  \n",
      "last    2018-09-16 11:50:03  \n"
     ]
    },
    {
     "name": "stderr",
     "output_type": "stream",
     "text": [
      "C:\\Users\\kauea\\AppData\\Local\\Temp\\ipykernel_21596\\3042696851.py:6: FutureWarning: Treating datetime data as categorical rather than numeric in `.describe` is deprecated and will be removed in a future version of pandas. Specify `datetime_is_numeric=True` to silence this warning and adopt the future behavior now.\n",
      "  print(tags.describe())\n"
     ]
    }
   ],
   "source": [
    "#\n",
    "\n",
    "print(links.describe())\n",
    "print(movies.describe())\n",
    "print(ratings.describe())\n",
    "print(tags.describe())"
   ]
  }
 ],
 "metadata": {
  "kernelspec": {
   "display_name": "base",
   "language": "python",
   "name": "python3"
  },
  "language_info": {
   "codemirror_mode": {
    "name": "ipython",
    "version": 3
   },
   "file_extension": ".py",
   "mimetype": "text/x-python",
   "name": "python",
   "nbconvert_exporter": "python",
   "pygments_lexer": "ipython3",
   "version": "3.11.4"
  }
 },
 "nbformat": 4,
 "nbformat_minor": 2
}
