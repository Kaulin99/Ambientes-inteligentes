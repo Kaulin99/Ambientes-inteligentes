{
 "cells": [
  {
   "cell_type": "markdown",
   "metadata": {},
   "source": [
    "<a rel=\"license\" href=\"https://faculdadesalvadorarena.org.br/\"><img alt=\"FESA\" style=\"border-width:0\" src=\"https://faculdadesalvadorarena.org.br/wp-content/uploads/2022/07/logo_fesa.png\" /></a><br />\n",
    "**FESA - Eletiva II (2025.1)** \n",
    "**N1 1ºbimestre**<br/>\n",
    "\n",
    "Aluno(a): Kauê dos Santos Andrade <br/>\n",
    "Data: 10/03/2025 <br/>"
   ]
  },
  {
   "cell_type": "code",
   "execution_count": 18,
   "metadata": {},
   "outputs": [],
   "source": [
    "import pandas as pd"
   ]
  },
  {
   "cell_type": "code",
   "execution_count": 19,
   "metadata": {},
   "outputs": [],
   "source": [
    "tags = pd.read_csv('C:/Users/kauea/OneDrive/Área de Trabalho/ERROR 404/Faculdade/Ambientes inteligentes/N1 1Bm/ml-latest-small/tags.csv')"
   ]
  },
  {
   "cell_type": "code",
   "execution_count": 20,
   "metadata": {},
   "outputs": [],
   "source": [
    "# Renomear colunas para facilitar o entendimento\n",
    "tags.rename(columns={'userId': 'Código do usuário', 'movieId': 'Código do filme', \n",
    "                    'tag': 'Tipo' ,  'timestamp' : 'Data'}, inplace=True)"
   ]
  },
  {
   "cell_type": "code",
   "execution_count": 21,
   "metadata": {},
   "outputs": [],
   "source": [
    "#Converte para DateTime os dados que precisam ser manipulados como data\n",
    "date_columns1 = ['Data']\n",
    "for col in date_columns1:\n",
    "    tags[col] = pd.to_datetime(tags[col], unit='s')\n",
    "\n",
    "date_columns2 = ['Código do usuário','Código do filme']\n",
    "for col in date_columns2:\n",
    "    tags[col] = tags[col].astype('string')"
   ]
  },
  {
   "cell_type": "code",
   "execution_count": 22,
   "metadata": {},
   "outputs": [
    {
     "data": {
      "text/html": [
       "<div>\n",
       "<style scoped>\n",
       "    .dataframe tbody tr th:only-of-type {\n",
       "        vertical-align: middle;\n",
       "    }\n",
       "\n",
       "    .dataframe tbody tr th {\n",
       "        vertical-align: top;\n",
       "    }\n",
       "\n",
       "    .dataframe thead th {\n",
       "        text-align: right;\n",
       "    }\n",
       "</style>\n",
       "<table border=\"1\" class=\"dataframe\">\n",
       "  <thead>\n",
       "    <tr style=\"text-align: right;\">\n",
       "      <th></th>\n",
       "      <th>Código do usuário</th>\n",
       "      <th>Código do filme</th>\n",
       "      <th>Tipo</th>\n",
       "      <th>Data</th>\n",
       "    </tr>\n",
       "  </thead>\n",
       "  <tbody>\n",
       "    <tr>\n",
       "      <th>0</th>\n",
       "      <td>2</td>\n",
       "      <td>60756</td>\n",
       "      <td>funny</td>\n",
       "      <td>2015-10-24 19:29:54</td>\n",
       "    </tr>\n",
       "    <tr>\n",
       "      <th>1</th>\n",
       "      <td>2</td>\n",
       "      <td>60756</td>\n",
       "      <td>Highly quotable</td>\n",
       "      <td>2015-10-24 19:29:56</td>\n",
       "    </tr>\n",
       "    <tr>\n",
       "      <th>2</th>\n",
       "      <td>2</td>\n",
       "      <td>60756</td>\n",
       "      <td>will ferrell</td>\n",
       "      <td>2015-10-24 19:29:52</td>\n",
       "    </tr>\n",
       "    <tr>\n",
       "      <th>3</th>\n",
       "      <td>2</td>\n",
       "      <td>89774</td>\n",
       "      <td>Boxing story</td>\n",
       "      <td>2015-10-24 19:33:27</td>\n",
       "    </tr>\n",
       "    <tr>\n",
       "      <th>4</th>\n",
       "      <td>2</td>\n",
       "      <td>89774</td>\n",
       "      <td>MMA</td>\n",
       "      <td>2015-10-24 19:33:20</td>\n",
       "    </tr>\n",
       "  </tbody>\n",
       "</table>\n",
       "</div>"
      ],
      "text/plain": [
       "  Código do usuário Código do filme             Tipo                Data\n",
       "0                 2           60756            funny 2015-10-24 19:29:54\n",
       "1                 2           60756  Highly quotable 2015-10-24 19:29:56\n",
       "2                 2           60756     will ferrell 2015-10-24 19:29:52\n",
       "3                 2           89774     Boxing story 2015-10-24 19:33:27\n",
       "4                 2           89774              MMA 2015-10-24 19:33:20"
      ]
     },
     "execution_count": 22,
     "metadata": {},
     "output_type": "execute_result"
    }
   ],
   "source": [
    "tags.head()"
   ]
  },
  {
   "cell_type": "code",
   "execution_count": 23,
   "metadata": {},
   "outputs": [
    {
     "name": "stdout",
     "output_type": "stream",
     "text": [
      "<class 'pandas.core.frame.DataFrame'>\n",
      "RangeIndex: 3683 entries, 0 to 3682\n",
      "Data columns (total 4 columns):\n",
      " #   Column             Non-Null Count  Dtype         \n",
      "---  ------             --------------  -----         \n",
      " 0   Código do usuário  3683 non-null   string        \n",
      " 1   Código do filme    3683 non-null   string        \n",
      " 2   Tipo               3683 non-null   object        \n",
      " 3   Data               3683 non-null   datetime64[ns]\n",
      "dtypes: datetime64[ns](1), object(1), string(2)\n",
      "memory usage: 115.2+ KB\n"
     ]
    }
   ],
   "source": [
    "tags.info()"
   ]
  },
  {
   "cell_type": "code",
   "execution_count": 24,
   "metadata": {},
   "outputs": [
    {
     "data": {
      "text/plain": [
       "<bound method NDFrame.describe of      Código do usuário Código do filme              Tipo                Data\n",
       "0                    2           60756             funny 2015-10-24 19:29:54\n",
       "1                    2           60756   Highly quotable 2015-10-24 19:29:56\n",
       "2                    2           60756      will ferrell 2015-10-24 19:29:52\n",
       "3                    2           89774      Boxing story 2015-10-24 19:33:27\n",
       "4                    2           89774               MMA 2015-10-24 19:33:20\n",
       "...                ...             ...               ...                 ...\n",
       "3678               606            7382         for katie 2007-02-11 22:46:59\n",
       "3679               606            7936           austere 2007-03-08 22:18:54\n",
       "3680               610            3265            gun fu 2017-05-03 20:39:44\n",
       "3681               610            3265  heroic bloodshed 2017-05-03 20:39:38\n",
       "3682               610          168248  Heroic Bloodshed 2017-05-03 20:44:30\n",
       "\n",
       "[3683 rows x 4 columns]>"
      ]
     },
     "execution_count": 24,
     "metadata": {},
     "output_type": "execute_result"
    }
   ],
   "source": [
    "tags.describe"
   ]
  }
 ],
 "metadata": {
  "kernelspec": {
   "display_name": "base",
   "language": "python",
   "name": "python3"
  },
  "language_info": {
   "codemirror_mode": {
    "name": "ipython",
    "version": 3
   },
   "file_extension": ".py",
   "mimetype": "text/x-python",
   "name": "python",
   "nbconvert_exporter": "python",
   "pygments_lexer": "ipython3",
   "version": "3.11.4"
  }
 },
 "nbformat": 4,
 "nbformat_minor": 2
}
