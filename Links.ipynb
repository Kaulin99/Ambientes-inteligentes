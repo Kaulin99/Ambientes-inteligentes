{
 "cells": [
  {
   "cell_type": "markdown",
   "metadata": {},
   "source": [
    "<a rel=\"license\" href=\"https://faculdadesalvadorarena.org.br/\"><img alt=\"FESA\" style=\"border-width:0\" src=\"https://faculdadesalvadorarena.org.br/wp-content/uploads/2022/07/logo_fesa.png\" /></a><br />\n",
    "**FESA - Eletiva II (2025.1)** \n",
    "**N1 1ºbimestre**<br/>\n",
    "\n",
    "Aluno(a): Kauê dos Santos Andrade <br/>\n",
    "Data: 10/03/2025 <br/>"
   ]
  },
  {
   "cell_type": "code",
   "execution_count": null,
   "metadata": {},
   "outputs": [],
   "source": [
    "import pandas as pd"
   ]
  },
  {
   "cell_type": "code",
   "execution_count": 3,
   "metadata": {},
   "outputs": [],
   "source": [
    "links = pd.read_csv('C:/Users/kauea/OneDrive/Área de Trabalho/ERROR 404/Faculdade/Ambientes inteligentes/N1 1Bm/ml-latest-small/links.csv')"
   ]
  },
  {
   "cell_type": "code",
   "execution_count": 5,
   "metadata": {},
   "outputs": [],
   "source": [
    "# Renomear colunas para facilitar o entendimento\n",
    "links.rename(columns={'movieId': 'Código do filme', 'imdbId': 'Código do imdb', \n",
    "                    'tmdbId': 'Código do tmdb'}, inplace=True)\n"
   ]
  },
  {
   "cell_type": "code",
   "execution_count": 6,
   "metadata": {},
   "outputs": [],
   "source": [
    "#Converte para String os dados em int e float que podem ser muito pesados sendo usados como int ou float, havendo o perigo de ultrapassar o limite dos números sem necessidade\n",
    "conversor = ['Código do filme', 'Código do imdb', 'Código do tmdb']\n",
    "for col in conversor:\n",
    "    links[col] = links[col].astype('string')"
   ]
  },
  {
   "cell_type": "code",
   "execution_count": 7,
   "metadata": {},
   "outputs": [
    {
     "data": {
      "text/html": [
       "<div>\n",
       "<style scoped>\n",
       "    .dataframe tbody tr th:only-of-type {\n",
       "        vertical-align: middle;\n",
       "    }\n",
       "\n",
       "    .dataframe tbody tr th {\n",
       "        vertical-align: top;\n",
       "    }\n",
       "\n",
       "    .dataframe thead th {\n",
       "        text-align: right;\n",
       "    }\n",
       "</style>\n",
       "<table border=\"1\" class=\"dataframe\">\n",
       "  <thead>\n",
       "    <tr style=\"text-align: right;\">\n",
       "      <th></th>\n",
       "      <th>Código do filme</th>\n",
       "      <th>Código do imdb</th>\n",
       "      <th>Código do tmdb</th>\n",
       "    </tr>\n",
       "  </thead>\n",
       "  <tbody>\n",
       "    <tr>\n",
       "      <th>0</th>\n",
       "      <td>1</td>\n",
       "      <td>114709</td>\n",
       "      <td>862.0</td>\n",
       "    </tr>\n",
       "    <tr>\n",
       "      <th>1</th>\n",
       "      <td>2</td>\n",
       "      <td>113497</td>\n",
       "      <td>8844.0</td>\n",
       "    </tr>\n",
       "    <tr>\n",
       "      <th>2</th>\n",
       "      <td>3</td>\n",
       "      <td>113228</td>\n",
       "      <td>15602.0</td>\n",
       "    </tr>\n",
       "    <tr>\n",
       "      <th>3</th>\n",
       "      <td>4</td>\n",
       "      <td>114885</td>\n",
       "      <td>31357.0</td>\n",
       "    </tr>\n",
       "    <tr>\n",
       "      <th>4</th>\n",
       "      <td>5</td>\n",
       "      <td>113041</td>\n",
       "      <td>11862.0</td>\n",
       "    </tr>\n",
       "  </tbody>\n",
       "</table>\n",
       "</div>"
      ],
      "text/plain": [
       "  Código do filme Código do imdb Código do tmdb\n",
       "0               1         114709          862.0\n",
       "1               2         113497         8844.0\n",
       "2               3         113228        15602.0\n",
       "3               4         114885        31357.0\n",
       "4               5         113041        11862.0"
      ]
     },
     "execution_count": 7,
     "metadata": {},
     "output_type": "execute_result"
    }
   ],
   "source": [
    "links.head()"
   ]
  },
  {
   "cell_type": "code",
   "execution_count": 8,
   "metadata": {},
   "outputs": [
    {
     "name": "stdout",
     "output_type": "stream",
     "text": [
      "<class 'pandas.core.frame.DataFrame'>\n",
      "RangeIndex: 9742 entries, 0 to 9741\n",
      "Data columns (total 3 columns):\n",
      " #   Column           Non-Null Count  Dtype \n",
      "---  ------           --------------  ----- \n",
      " 0   Código do filme  9742 non-null   string\n",
      " 1   Código do imdb   9742 non-null   string\n",
      " 2   Código do tmdb   9734 non-null   string\n",
      "dtypes: string(3)\n",
      "memory usage: 228.5 KB\n"
     ]
    }
   ],
   "source": [
    "links.info()"
   ]
  },
  {
   "cell_type": "code",
   "execution_count": 9,
   "metadata": {},
   "outputs": [
    {
     "data": {
      "text/plain": [
       "<bound method NDFrame.describe of      Código do filme Código do imdb Código do tmdb\n",
       "0                  1         114709          862.0\n",
       "1                  2         113497         8844.0\n",
       "2                  3         113228        15602.0\n",
       "3                  4         114885        31357.0\n",
       "4                  5         113041        11862.0\n",
       "...              ...            ...            ...\n",
       "9737          193581        5476944       432131.0\n",
       "9738          193583        5914996       445030.0\n",
       "9739          193585        6397426       479308.0\n",
       "9740          193587        8391976       483455.0\n",
       "9741          193609         101726        37891.0\n",
       "\n",
       "[9742 rows x 3 columns]>"
      ]
     },
     "execution_count": 9,
     "metadata": {},
     "output_type": "execute_result"
    }
   ],
   "source": [
    "links.describe"
   ]
  }
 ],
 "metadata": {
  "kernelspec": {
   "display_name": "base",
   "language": "python",
   "name": "python3"
  },
  "language_info": {
   "codemirror_mode": {
    "name": "ipython",
    "version": 3
   },
   "file_extension": ".py",
   "mimetype": "text/x-python",
   "name": "python",
   "nbconvert_exporter": "python",
   "pygments_lexer": "ipython3",
   "version": "3.11.4"
  }
 },
 "nbformat": 4,
 "nbformat_minor": 2
}
