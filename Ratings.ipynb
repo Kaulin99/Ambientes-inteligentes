{
 "cells": [
  {
   "cell_type": "markdown",
   "metadata": {},
   "source": [
    "<a rel=\"license\" href=\"https://faculdadesalvadorarena.org.br/\"><img alt=\"FESA\" style=\"border-width:0\" src=\"https://faculdadesalvadorarena.org.br/wp-content/uploads/2022/07/logo_fesa.png\" /></a><br />\n",
    "**FESA - Eletiva II (2025.1)** \n",
    "**N1 1ºbimestre**<br/>\n",
    "\n",
    "Aluno(a): Kauê dos Santos Andrade <br/>\n",
    "Data: 10/03/2025 <br/>"
   ]
  },
  {
   "cell_type": "code",
   "execution_count": 53,
   "metadata": {},
   "outputs": [],
   "source": [
    "import pandas as pd"
   ]
  },
  {
   "cell_type": "code",
   "execution_count": 54,
   "metadata": {},
   "outputs": [],
   "source": [
    "ratings = pd.read_csv('C:/Users/kauea/OneDrive/Área de Trabalho/ERROR 404/Faculdade/Ambientes inteligentes/N1 1Bm/ml-latest-small/ratings.csv')"
   ]
  },
  {
   "cell_type": "code",
   "execution_count": 55,
   "metadata": {},
   "outputs": [],
   "source": [
    "# Renomear colunas para facilitar o entendimento\n",
    "ratings.rename(columns={'userId': 'Código do usuário', 'movieId': 'Código do filme', \n",
    "                    'rating': 'Nota' ,  'timestamp' : 'Data'}, inplace=True)"
   ]
  },
  {
   "cell_type": "code",
   "execution_count": 56,
   "metadata": {},
   "outputs": [],
   "source": [
    "#Converte para DateTime os dados que precisam ser manipulados como data\n",
    "date_columns = ['Data']\n",
    "for col in date_columns:\n",
    "    ratings[col] = pd.to_datetime(ratings[col], unit='s')"
   ]
  },
  {
   "cell_type": "code",
   "execution_count": 57,
   "metadata": {},
   "outputs": [
    {
     "data": {
      "text/html": [
       "<div>\n",
       "<style scoped>\n",
       "    .dataframe tbody tr th:only-of-type {\n",
       "        vertical-align: middle;\n",
       "    }\n",
       "\n",
       "    .dataframe tbody tr th {\n",
       "        vertical-align: top;\n",
       "    }\n",
       "\n",
       "    .dataframe thead th {\n",
       "        text-align: right;\n",
       "    }\n",
       "</style>\n",
       "<table border=\"1\" class=\"dataframe\">\n",
       "  <thead>\n",
       "    <tr style=\"text-align: right;\">\n",
       "      <th></th>\n",
       "      <th>Código do usuário</th>\n",
       "      <th>Código do filme</th>\n",
       "      <th>Nota</th>\n",
       "      <th>Data</th>\n",
       "    </tr>\n",
       "  </thead>\n",
       "  <tbody>\n",
       "    <tr>\n",
       "      <th>0</th>\n",
       "      <td>1</td>\n",
       "      <td>1</td>\n",
       "      <td>4.0</td>\n",
       "      <td>2000-07-30 18:45:03</td>\n",
       "    </tr>\n",
       "    <tr>\n",
       "      <th>1</th>\n",
       "      <td>1</td>\n",
       "      <td>3</td>\n",
       "      <td>4.0</td>\n",
       "      <td>2000-07-30 18:20:47</td>\n",
       "    </tr>\n",
       "    <tr>\n",
       "      <th>2</th>\n",
       "      <td>1</td>\n",
       "      <td>6</td>\n",
       "      <td>4.0</td>\n",
       "      <td>2000-07-30 18:37:04</td>\n",
       "    </tr>\n",
       "    <tr>\n",
       "      <th>3</th>\n",
       "      <td>1</td>\n",
       "      <td>47</td>\n",
       "      <td>5.0</td>\n",
       "      <td>2000-07-30 19:03:35</td>\n",
       "    </tr>\n",
       "    <tr>\n",
       "      <th>4</th>\n",
       "      <td>1</td>\n",
       "      <td>50</td>\n",
       "      <td>5.0</td>\n",
       "      <td>2000-07-30 18:48:51</td>\n",
       "    </tr>\n",
       "  </tbody>\n",
       "</table>\n",
       "</div>"
      ],
      "text/plain": [
       "   Código do usuário  Código do filme  Nota                Data\n",
       "0                  1                1   4.0 2000-07-30 18:45:03\n",
       "1                  1                3   4.0 2000-07-30 18:20:47\n",
       "2                  1                6   4.0 2000-07-30 18:37:04\n",
       "3                  1               47   5.0 2000-07-30 19:03:35\n",
       "4                  1               50   5.0 2000-07-30 18:48:51"
      ]
     },
     "execution_count": 57,
     "metadata": {},
     "output_type": "execute_result"
    }
   ],
   "source": [
    "ratings.head()"
   ]
  },
  {
   "cell_type": "code",
   "execution_count": 58,
   "metadata": {},
   "outputs": [
    {
     "name": "stdout",
     "output_type": "stream",
     "text": [
      "<class 'pandas.core.frame.DataFrame'>\n",
      "RangeIndex: 100836 entries, 0 to 100835\n",
      "Data columns (total 4 columns):\n",
      " #   Column             Non-Null Count   Dtype         \n",
      "---  ------             --------------   -----         \n",
      " 0   Código do usuário  100836 non-null  int64         \n",
      " 1   Código do filme    100836 non-null  int64         \n",
      " 2   Nota               100836 non-null  float64       \n",
      " 3   Data               100836 non-null  datetime64[ns]\n",
      "dtypes: datetime64[ns](1), float64(1), int64(2)\n",
      "memory usage: 3.1 MB\n"
     ]
    }
   ],
   "source": [
    "ratings.info()"
   ]
  },
  {
   "cell_type": "code",
   "execution_count": 59,
   "metadata": {},
   "outputs": [
    {
     "data": {
      "text/plain": [
       "<bound method NDFrame.describe of         Código do usuário  Código do filme  Nota                Data\n",
       "0                       1                1   4.0 2000-07-30 18:45:03\n",
       "1                       1                3   4.0 2000-07-30 18:20:47\n",
       "2                       1                6   4.0 2000-07-30 18:37:04\n",
       "3                       1               47   5.0 2000-07-30 19:03:35\n",
       "4                       1               50   5.0 2000-07-30 18:48:51\n",
       "...                   ...              ...   ...                 ...\n",
       "100831                610           166534   4.0 2017-05-03 21:53:22\n",
       "100832                610           168248   5.0 2017-05-03 22:21:31\n",
       "100833                610           168250   5.0 2017-05-08 19:50:47\n",
       "100834                610           168252   5.0 2017-05-03 21:19:12\n",
       "100835                610           170875   3.0 2017-05-03 21:20:15\n",
       "\n",
       "[100836 rows x 4 columns]>"
      ]
     },
     "execution_count": 59,
     "metadata": {},
     "output_type": "execute_result"
    }
   ],
   "source": [
    "ratings.describe"
   ]
  }
 ],
 "metadata": {
  "kernelspec": {
   "display_name": "base",
   "language": "python",
   "name": "python3"
  },
  "language_info": {
   "codemirror_mode": {
    "name": "ipython",
    "version": 3
   },
   "file_extension": ".py",
   "mimetype": "text/x-python",
   "name": "python",
   "nbconvert_exporter": "python",
   "pygments_lexer": "ipython3",
   "version": "3.11.4"
  }
 },
 "nbformat": 4,
 "nbformat_minor": 2
}
